{
 "cells": [
  {
   "cell_type": "code",
   "execution_count": 1,
   "metadata": {
    "collapsed": true
   },
   "outputs": [],
   "source": [
    "import nltk"
   ]
  },
  {
   "cell_type": "code",
   "execution_count": 11,
   "metadata": {
    "collapsed": false
   },
   "outputs": [
    {
     "name": "stdout",
     "output_type": "stream",
     "text": [
      "CHAPTER I\n",
      "On the second Friday of term Anthony Bevan, whom all his world called \"Bruiser Bevan,\" Housemaster of \"B. House\" in Hamchester College, sat at dessert with three of his prefects. They had exhaustively discussed the prospects of the coming football season, had mutually exchanged their holiday experiences, and now, when it was really time that the boys should betake themselves to their several studies, they still lingered enjoying the last few pleasant moments over the walnuts and the very light port that their housemaster considered suited to their young digestions.\n",
      "The big window at the end of the room stood open to the soft September evening, and the sudden crunch of wheels upon the newly gravelled drive was plainly audible, followed as it was by a loud ring.\n",
      "Master and boys fell silent, listening; and the parlour-maid opened the dining-room door.\n",
      "\"Please, sir, there's a young lady--\" she began; when the tale was taken up by another voice, a young voice, singularly full and pleasant:\n",
      "\"It's me, Tony, dear; and didn't you expect me? Dad promised faithfully he would telegraph, but I suppose he forgot, as usual; and oh, I'm so tired! We had a good crossing, but I couldn't sleep, it was so stuffy.\"\n"
     ]
    }
   ],
   "source": [
    "sentence = []\n",
    "with open('Master and Maid.txt') as f:\n",
    "    n = 10\n",
    "    while n:\n",
    "        n -= 1\n",
    "        line = f.readline().strip()\n",
    "        if (line != \"\"):\n",
    "            sentence.append(line)\n",
    "document = \" \".join(sentence)"
   ]
  },
  {
   "cell_type": "code",
   "execution_count": 12,
   "metadata": {
    "collapsed": true
   },
   "outputs": [],
   "source": [
    "from nltk.tokenize import word_tokenize"
   ]
  },
  {
   "cell_type": "code",
   "execution_count": null,
   "metadata": {
    "collapsed": true
   },
   "outputs": [],
   "source": [
    "texts_tokenized = [word.lower() for word in word_tokenize(document)]\n",
    "print(texts_tokenized)"
   ]
  }
 ],
 "metadata": {
  "kernelspec": {
   "display_name": "Python 3",
   "language": "python",
   "name": "python3"
  },
  "language_info": {
   "codemirror_mode": {
    "name": "ipython",
    "version": 3
   },
   "file_extension": ".py",
   "mimetype": "text/x-python",
   "name": "python",
   "nbconvert_exporter": "python",
   "pygments_lexer": "ipython3",
   "version": "3.6.0"
  }
 },
 "nbformat": 4,
 "nbformat_minor": 2
}
